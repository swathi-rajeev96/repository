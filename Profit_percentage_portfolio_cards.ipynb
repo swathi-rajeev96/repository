{
 "cells": [
  {
   "cell_type": "code",
   "execution_count": 4,
   "metadata": {},
   "outputs": [],
   "source": [
    "import pandas as pd\n",
    "import numpy as np\n",
    "import warnings\n",
    "import matplotlib.pyplot as plt\n",
    "import seaborn as sns\n",
    "warnings.filterwarnings('ignore')"
   ]
  },
  {
   "cell_type": "code",
   "execution_count": 26,
   "metadata": {},
   "outputs": [
    {
     "data": {
      "text/html": [
       "<div>\n",
       "<style scoped>\n",
       "    .dataframe tbody tr th:only-of-type {\n",
       "        vertical-align: middle;\n",
       "    }\n",
       "\n",
       "    .dataframe tbody tr th {\n",
       "        vertical-align: top;\n",
       "    }\n",
       "\n",
       "    .dataframe thead th {\n",
       "        text-align: right;\n",
       "    }\n",
       "</style>\n",
       "<table border=\"1\" class=\"dataframe\">\n",
       "  <thead>\n",
       "    <tr style=\"text-align: right;\">\n",
       "      <th></th>\n",
       "      <th>Year</th>\n",
       "      <th>Month</th>\n",
       "      <th>American Express Gold credit card</th>\n",
       "      <th>Indian Overseas Bank Visa International Credit card</th>\n",
       "      <th>Axis Platinum card</th>\n",
       "      <th>Bank of India's India Card</th>\n",
       "      <th>Gold International Card</th>\n",
       "      <th>Citibank Dinners Club International card</th>\n",
       "      <th>Union Bank of India Silver Card</th>\n",
       "      <th>Syndicate Global Classic Credit Card</th>\n",
       "      <th>...</th>\n",
       "      <th>Syndicate Global Gold Credit Card</th>\n",
       "      <th>CorpBank Gold card</th>\n",
       "      <th>Vijaya Bank Visa Gold Credit Card</th>\n",
       "      <th>HSBC Platinum card</th>\n",
       "      <th>Vijaya Bank MasterCard Global Card</th>\n",
       "      <th>CorpBank Classic card</th>\n",
       "      <th>Vijaya Bank VISA Classic International Card</th>\n",
       "      <th>HDFC Silver credit card</th>\n",
       "      <th>Vijaya Bank MasterCard Classic Credit Card</th>\n",
       "      <th>HDFC Cooperate credit card</th>\n",
       "    </tr>\n",
       "  </thead>\n",
       "  <tbody>\n",
       "    <tr>\n",
       "      <th>0</th>\n",
       "      <td>2016</td>\n",
       "      <td>Nov</td>\n",
       "      <td>1.84</td>\n",
       "      <td>1.99</td>\n",
       "      <td>2.97</td>\n",
       "      <td>1.61</td>\n",
       "      <td>2.32</td>\n",
       "      <td>1.89</td>\n",
       "      <td>1.12</td>\n",
       "      <td>1.56</td>\n",
       "      <td>...</td>\n",
       "      <td>2.00</td>\n",
       "      <td>1.94</td>\n",
       "      <td>1.64</td>\n",
       "      <td>2.70</td>\n",
       "      <td>2.87</td>\n",
       "      <td>2.40</td>\n",
       "      <td>1.77</td>\n",
       "      <td>2.16</td>\n",
       "      <td>1.90</td>\n",
       "      <td>1.79</td>\n",
       "    </tr>\n",
       "    <tr>\n",
       "      <th>1</th>\n",
       "      <td>2016</td>\n",
       "      <td>Oct</td>\n",
       "      <td>1.84</td>\n",
       "      <td>2.00</td>\n",
       "      <td>2.97</td>\n",
       "      <td>1.62</td>\n",
       "      <td>2.35</td>\n",
       "      <td>1.93</td>\n",
       "      <td>1.12</td>\n",
       "      <td>1.60</td>\n",
       "      <td>...</td>\n",
       "      <td>1.99</td>\n",
       "      <td>2.01</td>\n",
       "      <td>1.64</td>\n",
       "      <td>2.72</td>\n",
       "      <td>2.80</td>\n",
       "      <td>2.40</td>\n",
       "      <td>1.81</td>\n",
       "      <td>2.16</td>\n",
       "      <td>1.95</td>\n",
       "      <td>1.81</td>\n",
       "    </tr>\n",
       "    <tr>\n",
       "      <th>2</th>\n",
       "      <td>2016</td>\n",
       "      <td>Sep</td>\n",
       "      <td>1.90</td>\n",
       "      <td>2.02</td>\n",
       "      <td>2.99</td>\n",
       "      <td>1.65</td>\n",
       "      <td>2.37</td>\n",
       "      <td>1.97</td>\n",
       "      <td>1.12</td>\n",
       "      <td>1.68</td>\n",
       "      <td>...</td>\n",
       "      <td>1.97</td>\n",
       "      <td>1.96</td>\n",
       "      <td>1.62</td>\n",
       "      <td>2.86</td>\n",
       "      <td>2.79</td>\n",
       "      <td>2.49</td>\n",
       "      <td>1.81</td>\n",
       "      <td>2.15</td>\n",
       "      <td>1.95</td>\n",
       "      <td>1.86</td>\n",
       "    </tr>\n",
       "    <tr>\n",
       "      <th>3</th>\n",
       "      <td>2016</td>\n",
       "      <td>Aug</td>\n",
       "      <td>1.87</td>\n",
       "      <td>2.01</td>\n",
       "      <td>3.05</td>\n",
       "      <td>1.69</td>\n",
       "      <td>2.49</td>\n",
       "      <td>1.97</td>\n",
       "      <td>1.14</td>\n",
       "      <td>1.72</td>\n",
       "      <td>...</td>\n",
       "      <td>2.12</td>\n",
       "      <td>1.99</td>\n",
       "      <td>1.64</td>\n",
       "      <td>2.81</td>\n",
       "      <td>2.71</td>\n",
       "      <td>2.56</td>\n",
       "      <td>1.86</td>\n",
       "      <td>2.15</td>\n",
       "      <td>2.00</td>\n",
       "      <td>1.90</td>\n",
       "    </tr>\n",
       "    <tr>\n",
       "      <th>4</th>\n",
       "      <td>2016</td>\n",
       "      <td>Jul</td>\n",
       "      <td>1.87</td>\n",
       "      <td>2.03</td>\n",
       "      <td>2.98</td>\n",
       "      <td>1.73</td>\n",
       "      <td>2.44</td>\n",
       "      <td>1.91</td>\n",
       "      <td>1.15</td>\n",
       "      <td>1.77</td>\n",
       "      <td>...</td>\n",
       "      <td>2.04</td>\n",
       "      <td>1.97</td>\n",
       "      <td>1.66</td>\n",
       "      <td>2.91</td>\n",
       "      <td>2.74</td>\n",
       "      <td>2.60</td>\n",
       "      <td>1.91</td>\n",
       "      <td>2.13</td>\n",
       "      <td>1.94</td>\n",
       "      <td>1.92</td>\n",
       "    </tr>\n",
       "  </tbody>\n",
       "</table>\n",
       "<p>5 rows × 22 columns</p>\n",
       "</div>"
      ],
      "text/plain": [
       "   Year  Month  American Express Gold credit card  \\\n",
       "0   2016   Nov                               1.84   \n",
       "1   2016   Oct                               1.84   \n",
       "2   2016   Sep                               1.90   \n",
       "3   2016   Aug                               1.87   \n",
       "4   2016   Jul                               1.87   \n",
       "\n",
       "   Indian Overseas Bank Visa International Credit card  Axis Platinum card  \\\n",
       "0                                               1.99                  2.97   \n",
       "1                                               2.00                  2.97   \n",
       "2                                               2.02                  2.99   \n",
       "3                                               2.01                  3.05   \n",
       "4                                               2.03                  2.98   \n",
       "\n",
       "   Bank of India's India Card  Gold International Card  \\\n",
       "0                        1.61                     2.32   \n",
       "1                        1.62                     2.35   \n",
       "2                        1.65                     2.37   \n",
       "3                        1.69                     2.49   \n",
       "4                        1.73                     2.44   \n",
       "\n",
       "   Citibank Dinners Club International card  Union Bank of India Silver Card  \\\n",
       "0                                      1.89                             1.12   \n",
       "1                                      1.93                             1.12   \n",
       "2                                      1.97                             1.12   \n",
       "3                                      1.97                             1.14   \n",
       "4                                      1.91                             1.15   \n",
       "\n",
       "   Syndicate Global Classic Credit Card             ...              \\\n",
       "0                                  1.56             ...               \n",
       "1                                  1.60             ...               \n",
       "2                                  1.68             ...               \n",
       "3                                  1.72             ...               \n",
       "4                                  1.77             ...               \n",
       "\n",
       "   Syndicate Global Gold Credit Card  CorpBank Gold card  \\\n",
       "0                               2.00                1.94   \n",
       "1                               1.99                2.01   \n",
       "2                               1.97                1.96   \n",
       "3                               2.12                1.99   \n",
       "4                               2.04                1.97   \n",
       "\n",
       "   Vijaya Bank Visa Gold Credit Card  HSBC Platinum card  \\\n",
       "0                               1.64                2.70   \n",
       "1                               1.64                2.72   \n",
       "2                               1.62                2.86   \n",
       "3                               1.64                2.81   \n",
       "4                               1.66                2.91   \n",
       "\n",
       "   Vijaya Bank MasterCard Global Card  CorpBank Classic card  \\\n",
       "0                                2.87                   2.40   \n",
       "1                                2.80                   2.40   \n",
       "2                                2.79                   2.49   \n",
       "3                                2.71                   2.56   \n",
       "4                                2.74                   2.60   \n",
       "\n",
       "   Vijaya Bank VISA Classic International Card  HDFC Silver credit card  \\\n",
       "0                                         1.77                     2.16   \n",
       "1                                         1.81                     2.16   \n",
       "2                                         1.81                     2.15   \n",
       "3                                         1.86                     2.15   \n",
       "4                                         1.91                     2.13   \n",
       "\n",
       "   Vijaya Bank MasterCard Classic Credit Card  HDFC Cooperate credit card  \n",
       "0                                        1.90                        1.79  \n",
       "1                                        1.95                        1.81  \n",
       "2                                        1.95                        1.86  \n",
       "3                                        2.00                        1.90  \n",
       "4                                        1.94                        1.92  \n",
       "\n",
       "[5 rows x 22 columns]"
      ]
     },
     "execution_count": 26,
     "metadata": {},
     "output_type": "execute_result"
    }
   ],
   "source": [
    "data = pd.read_csv(r'D:\\Term 3\\Banking analytics\\Case Studies\\Case_study_3\\Profit_percentage_portfolio_cards.csv')\n",
    "data.head()"
   ]
  },
  {
   "cell_type": "code",
   "execution_count": 27,
   "metadata": {},
   "outputs": [
    {
     "data": {
      "text/html": [
       "<div>\n",
       "<style scoped>\n",
       "    .dataframe tbody tr th:only-of-type {\n",
       "        vertical-align: middle;\n",
       "    }\n",
       "\n",
       "    .dataframe tbody tr th {\n",
       "        vertical-align: top;\n",
       "    }\n",
       "\n",
       "    .dataframe thead th {\n",
       "        text-align: right;\n",
       "    }\n",
       "</style>\n",
       "<table border=\"1\" class=\"dataframe\">\n",
       "  <thead>\n",
       "    <tr style=\"text-align: right;\">\n",
       "      <th></th>\n",
       "      <th>Vijaya Bank Visa Gold Credit Card</th>\n",
       "      <th>Vijaya Bank MasterCard Global Card</th>\n",
       "      <th>Vijaya Bank VISA Classic International Card</th>\n",
       "      <th>Vijaya Bank MasterCard Classic Credit Card</th>\n",
       "    </tr>\n",
       "  </thead>\n",
       "  <tbody>\n",
       "    <tr>\n",
       "      <th>0</th>\n",
       "      <td>1.64</td>\n",
       "      <td>2.87</td>\n",
       "      <td>1.77</td>\n",
       "      <td>1.90</td>\n",
       "    </tr>\n",
       "    <tr>\n",
       "      <th>1</th>\n",
       "      <td>1.64</td>\n",
       "      <td>2.80</td>\n",
       "      <td>1.81</td>\n",
       "      <td>1.95</td>\n",
       "    </tr>\n",
       "    <tr>\n",
       "      <th>2</th>\n",
       "      <td>1.62</td>\n",
       "      <td>2.79</td>\n",
       "      <td>1.81</td>\n",
       "      <td>1.95</td>\n",
       "    </tr>\n",
       "    <tr>\n",
       "      <th>3</th>\n",
       "      <td>1.64</td>\n",
       "      <td>2.71</td>\n",
       "      <td>1.86</td>\n",
       "      <td>2.00</td>\n",
       "    </tr>\n",
       "    <tr>\n",
       "      <th>4</th>\n",
       "      <td>1.66</td>\n",
       "      <td>2.74</td>\n",
       "      <td>1.91</td>\n",
       "      <td>1.94</td>\n",
       "    </tr>\n",
       "  </tbody>\n",
       "</table>\n",
       "</div>"
      ],
      "text/plain": [
       "   Vijaya Bank Visa Gold Credit Card  Vijaya Bank MasterCard Global Card  \\\n",
       "0                               1.64                                2.87   \n",
       "1                               1.64                                2.80   \n",
       "2                               1.62                                2.79   \n",
       "3                               1.64                                2.71   \n",
       "4                               1.66                                2.74   \n",
       "\n",
       "   Vijaya Bank VISA Classic International Card  \\\n",
       "0                                         1.77   \n",
       "1                                         1.81   \n",
       "2                                         1.81   \n",
       "3                                         1.86   \n",
       "4                                         1.91   \n",
       "\n",
       "   Vijaya Bank MasterCard Classic Credit Card  \n",
       "0                                        1.90  \n",
       "1                                        1.95  \n",
       "2                                        1.95  \n",
       "3                                        2.00  \n",
       "4                                        1.94  "
      ]
     },
     "execution_count": 27,
     "metadata": {},
     "output_type": "execute_result"
    }
   ],
   "source": [
    "vijaya_bank = data[['Vijaya Bank Visa Gold Credit Card','Vijaya Bank MasterCard Global Card','Vijaya Bank VISA Classic International Card','Vijaya Bank MasterCard Classic Credit Card']]\n",
    "vijaya_bank.head()"
   ]
  },
  {
   "cell_type": "markdown",
   "metadata": {},
   "source": [
    "Do the card portfolios of Vijaya Bank show similar performance, We should do the anova test. Firstly we should check\n",
    "\n",
    "1) Normality\n",
    "2)Variance Equility"
   ]
  },
  {
   "cell_type": "markdown",
   "metadata": {},
   "source": [
    "## Normality Test\n"
   ]
  },
  {
   "cell_type": "code",
   "execution_count": 28,
   "metadata": {},
   "outputs": [],
   "source": [
    "from scipy.stats import shapiro"
   ]
  },
  {
   "cell_type": "code",
   "execution_count": 39,
   "metadata": {},
   "outputs": [
    {
     "data": {
      "text/plain": [
       "<matplotlib.axes._subplots.AxesSubplot at 0x234038f44a8>"
      ]
     },
     "execution_count": 39,
     "metadata": {},
     "output_type": "execute_result"
    },
    {
     "data": {
      "image/png": "[encoded data removed]",
      "text/plain": [
       "<Figure size 432x288 with 1 Axes>"
      ]
     },
     "metadata": {
      "needs_background": "light"
     },
     "output_type": "display_data"
    }
   ],
   "source": [
    "plt.rcParams['figure.figsize']=(6,4)\n",
    "sns.distplot(vijaya_bank['Vijaya Bank MasterCard Classic Credit Card'])"
   ]
  },
  {
   "cell_type": "code",
   "execution_count": 40,
   "metadata": {},
   "outputs": [
    {
     "data": {
      "text/plain": [
       "(0.9310665726661682, 0.0001611772895557806)"
      ]
     },
     "execution_count": 40,
     "metadata": {},
     "output_type": "execute_result"
    }
   ],
   "source": [
    "### H0 : Vijaya Bank MasterCard Classic Credit Card is following normal distribution\n",
    "### H1 : Vijaya Bank MasterCard Classic Credit Card doesn't following normal distribution\n",
    "\n",
    "shapiro(data['Vijaya Bank MasterCard Classic Credit Card'])\n",
    "\n",
    "# As pvalue(0.0) is less than alhpa value(0.05), so data is not normal_distribution"
   ]
  },
  {
   "cell_type": "code",
   "execution_count": 41,
   "metadata": {},
   "outputs": [
    {
     "data": {
      "text/plain": [
       "<matplotlib.axes._subplots.AxesSubplot at 0x23403ab4eb8>"
      ]
     },
     "execution_count": 41,
     "metadata": {},
     "output_type": "execute_result"
    },
    {
     "data": {
      "image/png": "[encoded data removed]",
      "text/plain": [
       "<Figure size 432x288 with 1 Axes>"
      ]
     },
     "metadata": {
      "needs_background": "light"
     },
     "output_type": "display_data"
    }
   ],
   "source": [
    "sns.distplot(vijaya_bank['Vijaya Bank MasterCard Global Card'])"
   ]
  },
  {
   "cell_type": "code",
   "execution_count": 42,
   "metadata": {},
   "outputs": [
    {
     "data": {
      "text/plain": [
       "(0.8690590858459473, 2.72207842044736e-07)"
      ]
     },
     "execution_count": 42,
     "metadata": {},
     "output_type": "execute_result"
    }
   ],
   "source": [
    "### H0 : Vijaya Bank MasterCard Global Card is following normal distribution\n",
    "### H1 : Vijaya Bank MasterCard Global Card doesn't following normal distribution\n",
    "\n",
    "shapiro(data['Vijaya Bank MasterCard Global Card'])\n",
    "\n",
    "# As pvalue(0.0) is less than alhpa value(0.05), so data is not normal_distribution"
   ]
  },
  {
   "cell_type": "code",
   "execution_count": 43,
   "metadata": {},
   "outputs": [
    {
     "data": {
      "text/plain": [
       "<matplotlib.axes._subplots.AxesSubplot at 0x23403b11ac8>"
      ]
     },
     "execution_count": 43,
     "metadata": {},
     "output_type": "execute_result"
    },
    {
     "data": {
      "image/png": "[encoded data removed]",
      "text/plain": [
       "<Figure size 432x288 with 1 Axes>"
      ]
     },
     "metadata": {
      "needs_background": "light"
     },
     "output_type": "display_data"
    }
   ],
   "source": [
    "sns.distplot(vijaya_bank['Vijaya Bank Visa Gold Credit Card'])"
   ]
  },
  {
   "cell_type": "code",
   "execution_count": 11,
   "metadata": {},
   "outputs": [
    {
     "data": {
      "text/plain": [
       "(0.9622114896774292, 0.011529198847711086)"
      ]
     },
     "execution_count": 11,
     "metadata": {},
     "output_type": "execute_result"
    }
   ],
   "source": [
    "### H0 : Vijaya Bank Visa Gold Credit Card is following normal distribution\n",
    "### H1 : Vijaya Bank Visa Gold Credit Card doesn't following normal distribution\n",
    "\n",
    "shapiro(data['Vijaya Bank Visa Gold Credit Card'])\n",
    "\n",
    "# As pvalue(0.0) is less than alhpa value(0.05), so data is not normal_distribution"
   ]
  },
  {
   "cell_type": "code",
   "execution_count": 44,
   "metadata": {},
   "outputs": [
    {
     "data": {
      "text/plain": [
       "<matplotlib.axes._subplots.AxesSubplot at 0x23403b92908>"
      ]
     },
     "execution_count": 44,
     "metadata": {},
     "output_type": "execute_result"
    },
    {
     "data": {
      "image/png": "[encoded data removed]",
      "text/plain": [
       "<Figure size 432x288 with 1 Axes>"
      ]
     },
     "metadata": {
      "needs_background": "light"
     },
     "output_type": "display_data"
    }
   ],
   "source": [
    "sns.distplot(vijaya_bank['Vijaya Bank VISA Classic International Card'])"
   ]
  },
  {
   "cell_type": "code",
   "execution_count": 45,
   "metadata": {},
   "outputs": [
    {
     "data": {
      "text/plain": [
       "(0.9642390012741089, 0.015738578513264656)"
      ]
     },
     "execution_count": 45,
     "metadata": {},
     "output_type": "execute_result"
    }
   ],
   "source": [
    "### H0 : Vijaya Bank VISA Classic International Card is following normal distribution\n",
    "### H1 : Vijaya Bank VISA Classic International Card doesn't following normal distribution\n",
    "\n",
    "shapiro(data['Vijaya Bank VISA Classic International Card'])\n",
    "\n",
    "# As pvalue(0.0) is less than alhpa value(0.05), so data is not normal_distribution"
   ]
  },
  {
   "cell_type": "markdown",
   "metadata": {},
   "source": [
    "From the above observation, the all the four columns are not normally distributed. "
   ]
  },
  {
   "cell_type": "markdown",
   "metadata": {},
   "source": [
    "## Variance Equility"
   ]
  },
  {
   "cell_type": "code",
   "execution_count": 46,
   "metadata": {},
   "outputs": [],
   "source": [
    "from scipy.stats import levene"
   ]
  },
  {
   "cell_type": "code",
   "execution_count": 52,
   "metadata": {},
   "outputs": [
    {
     "data": {
      "text/plain": [
       "<matplotlib.axes._subplots.AxesSubplot at 0x234040192e8>"
      ]
     },
     "execution_count": 52,
     "metadata": {},
     "output_type": "execute_result"
    },
    {
     "data": {
      "image/png": "[encoded data removed]",
      "text/plain": [
       "<Figure size 1296x648 with 1 Axes>"
      ]
     },
     "metadata": {
      "needs_background": "light"
     },
     "output_type": "display_data"
    }
   ],
   "source": [
    "plt.rcParams['figure.figsize'] = (18,9)\n",
    "vijaya_data.plot(kind='box')"
   ]
  },
  {
   "cell_type": "code",
   "execution_count": 53,
   "metadata": {},
   "outputs": [
    {
     "data": {
      "text/plain": [
       "LeveneResult(statistic=83.04218148133587, pvalue=1.5303914151284303e-40)"
      ]
     },
     "execution_count": 53,
     "metadata": {},
     "output_type": "execute_result"
    }
   ],
   "source": [
    "levene(data['Vijaya Bank VISA Classic International Card'],data['Vijaya Bank MasterCard Classic Credit Card'],\n",
    "            data['Vijaya Bank MasterCard Global Card'], data['Vijaya Bank Visa Gold Credit Card'])"
   ]
  },
  {
   "cell_type": "markdown",
   "metadata": {},
   "source": [
    "From the above output, the p-value is less than alpha value (i.e, 0.05). So the variable equility check also fails. Has two assumption also fails instead of doing one-way anova, we will do non-parametric test (i.e, Kruskal) whereas for non-parametric test there is no assumption."
   ]
  },
  {
   "cell_type": "markdown",
   "metadata": {},
   "source": [
    "## Kruskal Test"
   ]
  },
  {
   "cell_type": "code",
   "execution_count": 54,
   "metadata": {},
   "outputs": [],
   "source": [
    "from scipy.stats import kruskal"
   ]
  },
  {
   "cell_type": "code",
   "execution_count": 55,
   "metadata": {},
   "outputs": [
    {
     "data": {
      "text/plain": [
       "KruskalResult(statistic=173.49800772601046, pvalue=2.235916063089705e-37)"
      ]
     },
     "execution_count": 55,
     "metadata": {},
     "output_type": "execute_result"
    }
   ],
   "source": [
    "kruskal(data['Vijaya Bank VISA Classic International Card'],data['Vijaya Bank MasterCard Classic Credit Card'],\n",
    "            data['Vijaya Bank MasterCard Global Card'], data['Vijaya Bank Visa Gold Credit Card'])"
   ]
  },
  {
   "cell_type": "markdown",
   "metadata": {},
   "source": [
    "When we do Kruskal test on the data, we got the p-value less than the alpha value (i.e, 0.05). So the null hypothesis is rejected. Now  we  should do less significant test (i.e, Tukey HSD)"
   ]
  },
  {
   "cell_type": "markdown",
   "metadata": {},
   "source": [
    "## Tukey HSD\n"
   ]
  },
  {
   "cell_type": "code",
   "execution_count": 19,
   "metadata": {},
   "outputs": [],
   "source": [
    "from statsmodels.stats.multicomp import pairwise_tukeyhsd"
   ]
  },
  {
   "cell_type": "code",
   "execution_count": 56,
   "metadata": {},
   "outputs": [
    {
     "data": {
      "text/html": [
       "<div>\n",
       "<style scoped>\n",
       "    .dataframe tbody tr th:only-of-type {\n",
       "        vertical-align: middle;\n",
       "    }\n",
       "\n",
       "    .dataframe tbody tr th {\n",
       "        vertical-align: top;\n",
       "    }\n",
       "\n",
       "    .dataframe thead th {\n",
       "        text-align: right;\n",
       "    }\n",
       "</style>\n",
       "<table border=\"1\" class=\"dataframe\">\n",
       "  <thead>\n",
       "    <tr style=\"text-align: right;\">\n",
       "      <th></th>\n",
       "      <th>variable</th>\n",
       "      <th>value</th>\n",
       "    </tr>\n",
       "  </thead>\n",
       "  <tbody>\n",
       "    <tr>\n",
       "      <th>0</th>\n",
       "      <td>Vijaya Bank Visa Gold Credit Card</td>\n",
       "      <td>1.64</td>\n",
       "    </tr>\n",
       "    <tr>\n",
       "      <th>1</th>\n",
       "      <td>Vijaya Bank Visa Gold Credit Card</td>\n",
       "      <td>1.64</td>\n",
       "    </tr>\n",
       "    <tr>\n",
       "      <th>2</th>\n",
       "      <td>Vijaya Bank Visa Gold Credit Card</td>\n",
       "      <td>1.62</td>\n",
       "    </tr>\n",
       "    <tr>\n",
       "      <th>3</th>\n",
       "      <td>Vijaya Bank Visa Gold Credit Card</td>\n",
       "      <td>1.64</td>\n",
       "    </tr>\n",
       "    <tr>\n",
       "      <th>4</th>\n",
       "      <td>Vijaya Bank Visa Gold Credit Card</td>\n",
       "      <td>1.66</td>\n",
       "    </tr>\n",
       "  </tbody>\n",
       "</table>\n",
       "</div>"
      ],
      "text/plain": [
       "                            variable  value\n",
       "0  Vijaya Bank Visa Gold Credit Card   1.64\n",
       "1  Vijaya Bank Visa Gold Credit Card   1.64\n",
       "2  Vijaya Bank Visa Gold Credit Card   1.62\n",
       "3  Vijaya Bank Visa Gold Credit Card   1.64\n",
       "4  Vijaya Bank Visa Gold Credit Card   1.66"
      ]
     },
     "execution_count": 56,
     "metadata": {},
     "output_type": "execute_result"
    }
   ],
   "source": [
    "dff = pd.melt(vijaya_bank)\n",
    "dff.head()"
   ]
  },
  {
   "cell_type": "code",
   "execution_count": 57,
   "metadata": {},
   "outputs": [
    {
     "data": {
      "text/html": [
       "<table class=\"simpletable\">\n",
       "<caption>Multiple Comparison of Means - Tukey HSD,FWER=0.05</caption>\n",
       "<tr>\n",
       "                    <th>group1</th>                                      <th>group2</th>                    <th>meandiff</th>  <th>lower</th>   <th>upper</th>  <th>reject</th>\n",
       "</tr>\n",
       "<tr>\n",
       "  <td>Vijaya Bank MasterCard Classic Credit Card</td>      <td>Vijaya Bank MasterCard Global Card</td>       <td>-0.8392</td> <td>-1.1115</td> <td>-0.5669</td>  <td>True</td> \n",
       "</tr>\n",
       "<tr>\n",
       "  <td>Vijaya Bank MasterCard Classic Credit Card</td>  <td>Vijaya Bank VISA Classic International Card</td>  <td>-1.0203</td> <td>-1.2926</td> <td>-0.7481</td>  <td>True</td> \n",
       "</tr>\n",
       "<tr>\n",
       "  <td>Vijaya Bank MasterCard Classic Credit Card</td>       <td>Vijaya Bank Visa Gold Credit Card</td>       <td>-1.9064</td> <td>-2.1786</td> <td>-1.6341</td>  <td>True</td> \n",
       "</tr>\n",
       "<tr>\n",
       "      <td>Vijaya Bank MasterCard Global Card</td>      <td>Vijaya Bank VISA Classic International Card</td>  <td>-0.1811</td> <td>-0.4534</td> <td>0.0911</td>   <td>False</td>\n",
       "</tr>\n",
       "<tr>\n",
       "      <td>Vijaya Bank MasterCard Global Card</td>           <td>Vijaya Bank Visa Gold Credit Card</td>       <td>-1.0672</td> <td>-1.3394</td> <td>-0.7949</td>  <td>True</td> \n",
       "</tr>\n",
       "<tr>\n",
       "  <td>Vijaya Bank VISA Classic International Card</td>      <td>Vijaya Bank Visa Gold Credit Card</td>       <td>-0.886</td>  <td>-1.1583</td> <td>-0.6138</td>  <td>True</td> \n",
       "</tr>\n",
       "</table>"
      ],
      "text/plain": [
       "<class 'statsmodels.iolib.table.SimpleTable'>"
      ]
     },
     "execution_count": 57,
     "metadata": {},
     "output_type": "execute_result"
    }
   ],
   "source": [
    "HSD_test = pairwise_tukeyhsd(dff['value'],dff['variable'])\n",
    "HSD_test.summary()"
   ]
  },
  {
   "cell_type": "markdown",
   "metadata": {},
   "source": [
    "From the HSD summary, we can see that only the combination of 'Vijaya Bank MasterCard Global Card' and 'Vijaya Bank VISA Classic International Card' is accepting the null hypothesis. So we check, is there any variance equility between them."
   ]
  },
  {
   "cell_type": "code",
   "execution_count": 58,
   "metadata": {},
   "outputs": [
    {
     "data": {
      "text/plain": [
       "LeveneResult(statistic=59.3651522257044, pvalue=9.549683932863513e-13)"
      ]
     },
     "execution_count": 58,
     "metadata": {},
     "output_type": "execute_result"
    }
   ],
   "source": [
    "levene(data['Vijaya Bank MasterCard Global Card'],data['Vijaya Bank VISA Classic International Card'])"
   ]
  },
  {
   "cell_type": "code",
   "execution_count": 59,
   "metadata": {},
   "outputs": [],
   "source": [
    "from scipy.stats import bartlett"
   ]
  },
  {
   "cell_type": "code",
   "execution_count": 60,
   "metadata": {},
   "outputs": [
    {
     "data": {
      "text/plain": [
       "BartlettResult(statistic=71.10748303924588, pvalue=3.3828461022598443e-17)"
      ]
     },
     "execution_count": 60,
     "metadata": {},
     "output_type": "execute_result"
    }
   ],
   "source": [
    "bartlett(data['Vijaya Bank MasterCard Global Card'],data['Vijaya Bank VISA Classic International Card'])"
   ]
  },
  {
   "cell_type": "markdown",
   "metadata": {},
   "source": [
    "From above Levene and Bartlet results, as both the p-value is less that alpha value. The combination is not having any variance equility between them.\n",
    "\n",
    "So, we can conclude that, The card portfolios of Vijaya Bank don't show similar performance.\n",
    "\n"
   ]
  },
  {
   "cell_type": "code",
   "execution_count": null,
   "metadata": {},
   "outputs": [],
   "source": []
  }
 ],
 "metadata": {
  "kernelspec": {
   "display_name": "Python 3",
   "language": "python",
   "name": "python3"
  },
  "language_info": {
   "codemirror_mode": {
    "name": "ipython",
    "version": 3
   },
   "file_extension": ".py",
   "mimetype": "text/x-python",
   "name": "python",
   "nbconvert_exporter": "python",
   "pygments_lexer": "ipython3",
   "version": "3.7.1"
  }
 },
 "nbformat": 4,
 "nbformat_minor": 2
}
