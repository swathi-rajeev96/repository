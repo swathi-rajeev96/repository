{
 "cells": [
  {
   "cell_type": "code",
   "execution_count": null,
   "metadata": {},
   "outputs": [],
   "source": [
    "#first principle model for linear regression"
   ]
  },
  {
   "cell_type": "code",
   "execution_count": null,
   "metadata": {},
   "outputs": [],
   "source": [
    "import numpy as np\n",
    "from matplotlib import pyplot as plt"
   ]
  },
  {
   "cell_type": "code",
   "execution_count": null,
   "metadata": {},
   "outputs": [],
   "source": [
    "#X=np.array([0,1,2,2.5])\n",
    "X=np.array([4,9,10,14,4,7,12,22,1,17])\n",
    "m=len(X)\n",
    "X=X.reshape(m,1)\n",
    "\n",
    "print(X)"
   ]
  },
  {
   "cell_type": "code",
   "execution_count": null,
   "metadata": {},
   "outputs": [],
   "source": [
    "#Y=np.array([1,1.9,3.2,3.4])\n",
    "Y=np.array([31,58,65,73,37,44,60,91,21,84])\n",
    "Y=Y.reshape(len(Y),1)\n",
    "print(Y)"
   ]
  },
  {
   "cell_type": "code",
   "execution_count": null,
   "metadata": {},
   "outputs": [],
   "source": [
    "plt.scatter(X,Y)"
   ]
  },
  {
   "cell_type": "code",
   "execution_count": null,
   "metadata": {},
   "outputs": [],
   "source": [
    "#mean of X & Y\n",
    "x_mean=np.mean(X)\n",
    "y_mean=np.mean(Y)\n",
    "print(x_mean)\n",
    "print(y_mean)"
   ]
  },
  {
   "cell_type": "code",
   "execution_count": null,
   "metadata": {},
   "outputs": [],
   "source": [
    "#finding summation\n",
    "num=0\n",
    "den=0\n",
    "for i in range(m):\n",
    "    num+=((X[i]-x_mean)*(Y[i]-y_mean))\n",
    "    den+=((X[i]-x_mean)**2)\n",
    "    \n",
    "#finding a1 and a0\n",
    "a1=num/den\n",
    "a0=y_mean-a1*x_mean\n",
    "print(a0)\n",
    "print(a1)"
   ]
  },
  {
   "cell_type": "code",
   "execution_count": null,
   "metadata": {},
   "outputs": [],
   "source": [
    "#finding predicted values for each value of X\n",
    "y_pred1=a0+a1*X\n",
    "print(y_pred1)"
   ]
  },
  {
   "cell_type": "code",
   "execution_count": null,
   "metadata": {},
   "outputs": [],
   "source": [
    "#scatter plot\n",
    "plt.scatter(X,Y,color='red')\n",
    "plt.plot(X,y_pred1)"
   ]
  },
  {
   "cell_type": "code",
   "execution_count": null,
   "metadata": {},
   "outputs": [],
   "source": [
    "residue=Y-y_pred1  #observed values-predicted values\n",
    "print(residue)"
   ]
  },
  {
   "cell_type": "code",
   "execution_count": null,
   "metadata": {},
   "outputs": [],
   "source": [
    "print('sum of residue',sum(residue))"
   ]
  },
  {
   "cell_type": "code",
   "execution_count": null,
   "metadata": {},
   "outputs": [],
   "source": [
    "#calculating rmse\n",
    "rmse=np.sqrt(sum(residue**2)/m)\n",
    "rmse"
   ]
  },
  {
   "cell_type": "code",
   "execution_count": null,
   "metadata": {},
   "outputs": [],
   "source": [
    "#plot of independent variable VS residual gives insights about the regression fit\n",
    "plt.scatter(X,residue,color='blue')"
   ]
  },
  {
   "cell_type": "code",
   "execution_count": null,
   "metadata": {},
   "outputs": [],
   "source": [
    "#compute r square"
   ]
  },
  {
   "cell_type": "code",
   "execution_count": null,
   "metadata": {},
   "outputs": [],
   "source": [
    "r2=1-sum(residue**2)/sum((Y-y_mean)**2)\n",
    "print('coeff of determination',r2)"
   ]
  },
  {
   "cell_type": "markdown",
   "metadata": {},
   "source": [
    "# head brain data set"
   ]
  },
  {
   "cell_type": "code",
   "execution_count": 1,
   "metadata": {},
   "outputs": [],
   "source": [
    "import os\n",
    "import pandas as pd\n",
    "import numpy as np\n",
    "path=r\"D:\\term2\\machine learning\"\n"
   ]
  },
  {
   "cell_type": "code",
   "execution_count": 2,
   "metadata": {
    "scrolled": true
   },
   "outputs": [
    {
     "data": {
      "text/html": [
       "<div>\n",
       "<style scoped>\n",
       "    .dataframe tbody tr th:only-of-type {\n",
       "        vertical-align: middle;\n",
       "    }\n",
       "\n",
       "    .dataframe tbody tr th {\n",
       "        vertical-align: top;\n",
       "    }\n",
       "\n",
       "    .dataframe thead th {\n",
       "        text-align: right;\n",
       "    }\n",
       "</style>\n",
       "<table border=\"1\" class=\"dataframe\">\n",
       "  <thead>\n",
       "    <tr style=\"text-align: right;\">\n",
       "      <th></th>\n",
       "      <th>Gender</th>\n",
       "      <th>Age Range</th>\n",
       "      <th>Head Size(cm^3)</th>\n",
       "      <th>Brain Weight(grams)</th>\n",
       "    </tr>\n",
       "  </thead>\n",
       "  <tbody>\n",
       "    <tr>\n",
       "      <th>0</th>\n",
       "      <td>1</td>\n",
       "      <td>1</td>\n",
       "      <td>4512</td>\n",
       "      <td>1530</td>\n",
       "    </tr>\n",
       "    <tr>\n",
       "      <th>1</th>\n",
       "      <td>1</td>\n",
       "      <td>1</td>\n",
       "      <td>3738</td>\n",
       "      <td>1297</td>\n",
       "    </tr>\n",
       "    <tr>\n",
       "      <th>2</th>\n",
       "      <td>1</td>\n",
       "      <td>1</td>\n",
       "      <td>4261</td>\n",
       "      <td>1335</td>\n",
       "    </tr>\n",
       "    <tr>\n",
       "      <th>3</th>\n",
       "      <td>1</td>\n",
       "      <td>1</td>\n",
       "      <td>3777</td>\n",
       "      <td>1282</td>\n",
       "    </tr>\n",
       "    <tr>\n",
       "      <th>4</th>\n",
       "      <td>1</td>\n",
       "      <td>1</td>\n",
       "      <td>4177</td>\n",
       "      <td>1590</td>\n",
       "    </tr>\n",
       "  </tbody>\n",
       "</table>\n",
       "</div>"
      ],
      "text/plain": [
       "   Gender  Age Range  Head Size(cm^3)  Brain Weight(grams)\n",
       "0       1          1             4512                 1530\n",
       "1       1          1             3738                 1297\n",
       "2       1          1             4261                 1335\n",
       "3       1          1             3777                 1282\n",
       "4       1          1             4177                 1590"
      ]
     },
     "execution_count": 2,
     "metadata": {},
     "output_type": "execute_result"
    }
   ],
   "source": [
    "data=pd.read_csv('headbrain.csv')\n",
    "data.head()"
   ]
  },
  {
   "cell_type": "code",
   "execution_count": 3,
   "metadata": {},
   "outputs": [
    {
     "data": {
      "text/plain": [
       "(237, 4)"
      ]
     },
     "execution_count": 3,
     "metadata": {},
     "output_type": "execute_result"
    }
   ],
   "source": [
    "data.shape"
   ]
  },
  {
   "cell_type": "code",
   "execution_count": 10,
   "metadata": {},
   "outputs": [],
   "source": [
    "from sklearn.linear_model import LinearRegression\n",
    "from sklearn.metrics import mean_squared_error,r2_score\n",
    "from matplotlib import pyplot as plt"
   ]
  },
  {
   "cell_type": "code",
   "execution_count": 5,
   "metadata": {},
   "outputs": [],
   "source": [
    "x=data['Head Size(cm^3)'].values\n",
    "y=data['Brain Weight(grams)'].values"
   ]
  },
  {
   "cell_type": "code",
   "execution_count": 6,
   "metadata": {},
   "outputs": [],
   "source": [
    "m=len(x)\n",
    "x=x.reshape((m,1))"
   ]
  },
  {
   "cell_type": "code",
   "execution_count": 7,
   "metadata": {},
   "outputs": [
    {
     "name": "stdout",
     "output_type": "stream",
     "text": [
      "a0 = 325.5734210494426\n",
      "a1 = [0.26342934]\n"
     ]
    }
   ],
   "source": [
    "# Model Intialization\n",
    "lm = LinearRegression()\n",
    "# Data Fitting\n",
    "model = lm.fit(x,y)\n",
    "\n",
    "print('a0 =',lm.intercept_)\n",
    "print('a1 =',lm.coef_)"
   ]
  },
  {
   "cell_type": "code",
   "execution_count": 8,
   "metadata": {},
   "outputs": [
    {
     "data": {
      "text/plain": [
       "[<matplotlib.lines.Line2D at 0x24b434ffba8>]"
      ]
     },
     "execution_count": 8,
     "metadata": {},
     "output_type": "execute_result"
    },
    {
     "data": {
      "image/png": "[encoded data removed]",
      "text/plain": [
       "<Figure size 432x288 with 1 Axes>"
      ]
     },
     "metadata": {
      "needs_background": "light"
     },
     "output_type": "display_data"
    }
   ],
   "source": [
    "# Model is y= 325.5734 + 0.2634*x\n",
    "# y Prediction\n",
    "y_pred=lm.predict(x)\n",
    "plt.scatter(x,y,color='blue')\n",
    "plt.plot(x,y_pred)"
   ]
  },
  {
   "cell_type": "code",
   "execution_count": 12,
   "metadata": {},
   "outputs": [
    {
     "name": "stdout",
     "output_type": "stream",
     "text": [
      "rmse =  72.1206213783709\n",
      "r2 score =  0.639311719957\n"
     ]
    }
   ],
   "source": [
    "#model evaluation\n",
    "rmse=np.sqrt(mean_squared_error(y,y_pred))\n",
    "r_sq=r2_score(y,y_pred)  #built in function that computes r square value\n",
    "print('rmse = ', rmse)\n",
    "print('r2 score = ',r_sq)"
   ]
  },
  {
   "cell_type": "markdown",
   "metadata": {},
   "source": [
    "In this case, R-Square is 63.9%. This means, 63.9% of variance in brain_weight\n",
    "is explained by head-size. \n",
    "In other words, if you know head-size of a baby, you will have 63.9% information to make an accurate prediction about its brain-weight."
   ]
  },
  {
   "cell_type": "code",
   "execution_count": null,
   "metadata": {},
   "outputs": [],
   "source": [
    "#compute brain weight of a child whose head size is 4000\n",
    "val_data=pd.DataFrame.from_dict({'Head Size(cm^3)':[4000]})\n",
    "val_data\n",
    "brain=lm.predict(val_data)\n",
    "brain"
   ]
  },
  {
   "cell_type": "code",
   "execution_count": 13,
   "metadata": {},
   "outputs": [
    {
     "name": "stdout",
     "output_type": "stream",
     "text": [
      "enter the head size6589\n",
      "brainsize is [2061.30933895]\n"
     ]
    }
   ],
   "source": [
    "#or\n",
    "user_inp=[[int(input(\"enter the head size\"))]]  \n",
    "print('brainsize is',lm.predict(user_inp))"
   ]
  },
  {
   "cell_type": "markdown",
   "metadata": {},
   "source": [
    "# salary data"
   ]
  },
  {
   "cell_type": "code",
   "execution_count": 40,
   "metadata": {},
   "outputs": [],
   "source": [
    "from sklearn.model_selection import train_test_split\n",
    "from sklearn.metrics import mean_squared_error,r2_score\n",
    "from sklearn.linear_model import LinearRegression"
   ]
  },
  {
   "cell_type": "code",
   "execution_count": 41,
   "metadata": {},
   "outputs": [
    {
     "data": {
      "text/html": [
       "<div>\n",
       "<style scoped>\n",
       "    .dataframe tbody tr th:only-of-type {\n",
       "        vertical-align: middle;\n",
       "    }\n",
       "\n",
       "    .dataframe tbody tr th {\n",
       "        vertical-align: top;\n",
       "    }\n",
       "\n",
       "    .dataframe thead th {\n",
       "        text-align: right;\n",
       "    }\n",
       "</style>\n",
       "<table border=\"1\" class=\"dataframe\">\n",
       "  <thead>\n",
       "    <tr style=\"text-align: right;\">\n",
       "      <th></th>\n",
       "      <th>YearsExperience</th>\n",
       "      <th>Salary</th>\n",
       "    </tr>\n",
       "  </thead>\n",
       "  <tbody>\n",
       "    <tr>\n",
       "      <th>0</th>\n",
       "      <td>1.1</td>\n",
       "      <td>39343.0</td>\n",
       "    </tr>\n",
       "    <tr>\n",
       "      <th>1</th>\n",
       "      <td>1.3</td>\n",
       "      <td>46205.0</td>\n",
       "    </tr>\n",
       "    <tr>\n",
       "      <th>2</th>\n",
       "      <td>1.5</td>\n",
       "      <td>37731.0</td>\n",
       "    </tr>\n",
       "    <tr>\n",
       "      <th>3</th>\n",
       "      <td>2.0</td>\n",
       "      <td>43525.0</td>\n",
       "    </tr>\n",
       "    <tr>\n",
       "      <th>4</th>\n",
       "      <td>2.2</td>\n",
       "      <td>39891.0</td>\n",
       "    </tr>\n",
       "  </tbody>\n",
       "</table>\n",
       "</div>"
      ],
      "text/plain": [
       "   YearsExperience   Salary\n",
       "0              1.1  39343.0\n",
       "1              1.3  46205.0\n",
       "2              1.5  37731.0\n",
       "3              2.0  43525.0\n",
       "4              2.2  39891.0"
      ]
     },
     "execution_count": 41,
     "metadata": {},
     "output_type": "execute_result"
    }
   ],
   "source": [
    "sal=pd.read_csv('Salary_Data.csv')\n",
    "sal.head()"
   ]
  },
  {
   "cell_type": "code",
   "execution_count": 42,
   "metadata": {},
   "outputs": [],
   "source": [
    "x=sal['YearsExperience'].values\n",
    "y=sal['Salary'].values"
   ]
  },
  {
   "cell_type": "code",
   "execution_count": 43,
   "metadata": {},
   "outputs": [],
   "source": [
    "x=x.reshape((len(x),1))"
   ]
  },
  {
   "cell_type": "code",
   "execution_count": 44,
   "metadata": {},
   "outputs": [
    {
     "data": {
      "text/plain": [
       "(24, 6, 24, 6)"
      ]
     },
     "execution_count": 44,
     "metadata": {},
     "output_type": "execute_result"
    }
   ],
   "source": [
    "#step 1: splitting data in to traning and test\n",
    "x_train,x_test,y_train,y_test=train_test_split(x,y,test_size=0.2,random_state=0) #random states keeps a fixes set of oututs to work with\n",
    "len(x_train),len(x_test),len(y_train),len(y_test)"
   ]
  },
  {
   "cell_type": "markdown",
   "metadata": {},
   "source": [
    "The value of random_state parameter can be omitted. If we do not use that parameter, for every run of the code, we will get different train and test sets randomly. So, if we need to do multiple trials on the same data, we may not be able to do comparison. So, it is better to set it to some value.\n",
    "\n",
    "Setting random_state a fixed value will guarantee that same sequence of random numbers are generated each time you run the code. And unless there is some other randomness present in the process, the results produced will be same as always. This helps in verifying the output.\n",
    "\n",
    "In practice, one should set the random_state to some fixed number during testing phase. But then remove it in production if you really need a random (and not a fixed) split."
   ]
  },
  {
   "cell_type": "code",
   "execution_count": 52,
   "metadata": {},
   "outputs": [
    {
     "name": "stdout",
     "output_type": "stream",
     "text": [
      "a0 =  325.5734210494426\n",
      "a1 =  [0.26342934]\n"
     ]
    }
   ],
   "source": [
    "#create the model\n",
    "lm1=LinearRegression()\n",
    "#fit the model\n",
    "model1=lm1.fit(x_train,y_train)\n",
    "print('a0 = ',lm.intercept_)\n",
    "print('a1 = ',lm.coef_)\n",
    "y_pred=lm1.predict(x_test)"
   ]
  },
  {
   "cell_type": "code",
   "execution_count": 48,
   "metadata": {},
   "outputs": [
    {
     "data": {
      "text/plain": [
       "Text(0.5, 1.0, 'exp vs sal')"
      ]
     },
     "execution_count": 48,
     "metadata": {},
     "output_type": "execute_result"
    },
    {
     "data": {
      "image/png": "[encoded data removed]",
      "text/plain": [
       "<Figure size 432x288 with 1 Axes>"
      ]
     },
     "metadata": {
      "needs_background": "light"
     },
     "output_type": "display_data"
    }
   ],
   "source": [
    "#visualizing training data set\n",
    "plt.scatter(x_train,y_train)\n",
    "plt.plot(x_train,lm1.predict(x_train),color='red')\n",
    "plt.xlabel('experience')\n",
    "plt.ylabel('salary')\n",
    "plt.title('exp vs sal')"
   ]
  },
  {
   "cell_type": "code",
   "execution_count": 49,
   "metadata": {},
   "outputs": [
    {
     "data": {
      "text/plain": [
       "[<matplotlib.lines.Line2D at 0x24b435fb9e8>]"
      ]
     },
     "execution_count": 49,
     "metadata": {},
     "output_type": "execute_result"
    },
    {
     "data": {
      "image/png": "[encoded data removed]",
      "text/plain": [
       "<Figure size 432x288 with 1 Axes>"
      ]
     },
     "metadata": {
      "needs_background": "light"
     },
     "output_type": "display_data"
    }
   ],
   "source": [
    "#visualising test data\n",
    "plt.scatter(x_test,y_test,color='red')\n",
    "plt.plot(x_train,lm1.predict(x_train),color='black')"
   ]
  },
  {
   "cell_type": "code",
   "execution_count": 53,
   "metadata": {},
   "outputs": [
    {
     "name": "stdout",
     "output_type": "stream",
     "text": [
      "rmse =  3580.979237321343\n",
      "r2 score =  0.988169515729126\n"
     ]
    }
   ],
   "source": [
    "rmse=np.sqrt(mean_squared_error(y_test,y_pred))\n",
    "r_sq=r2_score(y_test,y_pred)  #always for score we have to fit test data and pred value\n",
    "print('rmse = ', rmse)\n",
    "print('r2 score = ',r_sq)"
   ]
  },
  {
   "cell_type": "markdown",
   "metadata": {},
   "source": [
    "r sq value is 98.8%.This means that 98% of variance in salary is explained by years of experience. so if uk the years of exp of a peson u have 98% info to make accurate prediction about that person's salary"
   ]
  },
  {
   "cell_type": "code",
   "execution_count": 54,
   "metadata": {},
   "outputs": [
    {
     "name": "stdout",
     "output_type": "stream",
     "text": [
      "enter years of experience9\n",
      "salary is  [110593.27529119]\n"
     ]
    }
   ],
   "source": [
    "user=[[int(input('enter years of experience'))]]\n",
    "print('salary is ',lm1.predict(user))"
   ]
  },
  {
   "cell_type": "markdown",
   "metadata": {},
   "source": [
    "# Multivariate regression"
   ]
  },
  {
   "cell_type": "code",
   "execution_count": 55,
   "metadata": {},
   "outputs": [],
   "source": [
    "import pandas as pd\n",
    "from matplotlib import pyplot as plt\n",
    "from sklearn.model_selection import train_test_split\n",
    "from sklearn.metrics import mean_squared_error, r2_score\n",
    "from sklearn.linear_model import LinearRegression"
   ]
  },
  {
   "cell_type": "code",
   "execution_count": 56,
   "metadata": {},
   "outputs": [],
   "source": [
    "student=pd.read_csv('student.csv')"
   ]
  },
  {
   "cell_type": "code",
   "execution_count": 57,
   "metadata": {},
   "outputs": [
    {
     "data": {
      "text/html": [
       "<div>\n",
       "<style scoped>\n",
       "    .dataframe tbody tr th:only-of-type {\n",
       "        vertical-align: middle;\n",
       "    }\n",
       "\n",
       "    .dataframe tbody tr th {\n",
       "        vertical-align: top;\n",
       "    }\n",
       "\n",
       "    .dataframe thead th {\n",
       "        text-align: right;\n",
       "    }\n",
       "</style>\n",
       "<table border=\"1\" class=\"dataframe\">\n",
       "  <thead>\n",
       "    <tr style=\"text-align: right;\">\n",
       "      <th></th>\n",
       "      <th>Math</th>\n",
       "      <th>Reading</th>\n",
       "      <th>Writing</th>\n",
       "    </tr>\n",
       "  </thead>\n",
       "  <tbody>\n",
       "    <tr>\n",
       "      <th>0</th>\n",
       "      <td>48</td>\n",
       "      <td>68</td>\n",
       "      <td>63</td>\n",
       "    </tr>\n",
       "    <tr>\n",
       "      <th>1</th>\n",
       "      <td>62</td>\n",
       "      <td>81</td>\n",
       "      <td>72</td>\n",
       "    </tr>\n",
       "    <tr>\n",
       "      <th>2</th>\n",
       "      <td>79</td>\n",
       "      <td>80</td>\n",
       "      <td>78</td>\n",
       "    </tr>\n",
       "    <tr>\n",
       "      <th>3</th>\n",
       "      <td>76</td>\n",
       "      <td>83</td>\n",
       "      <td>79</td>\n",
       "    </tr>\n",
       "    <tr>\n",
       "      <th>4</th>\n",
       "      <td>59</td>\n",
       "      <td>64</td>\n",
       "      <td>62</td>\n",
       "    </tr>\n",
       "  </tbody>\n",
       "</table>\n",
       "</div>"
      ],
      "text/plain": [
       "   Math  Reading  Writing\n",
       "0    48       68       63\n",
       "1    62       81       72\n",
       "2    79       80       78\n",
       "3    76       83       79\n",
       "4    59       64       62"
      ]
     },
     "execution_count": 57,
     "metadata": {},
     "output_type": "execute_result"
    }
   ],
   "source": [
    "student.head()"
   ]
  },
  {
   "cell_type": "code",
   "execution_count": 58,
   "metadata": {},
   "outputs": [],
   "source": [
    "x=student[['Math','Reading']]\n",
    "y=student[['Writing']]"
   ]
  },
  {
   "cell_type": "code",
   "execution_count": 59,
   "metadata": {},
   "outputs": [
    {
     "data": {
      "text/plain": [
       "(800, 200, 800, 200)"
      ]
     },
     "execution_count": 59,
     "metadata": {},
     "output_type": "execute_result"
    }
   ],
   "source": [
    "x_train,x_test,y_train,y_test=train_test_split(x,y,test_size=0.2,random_state=0) #random states keeps a fixes set of oututs to work with\n",
    "len(x_train),len(x_test),len(y_train),len(y_test)"
   ]
  },
  {
   "cell_type": "code",
   "execution_count": 60,
   "metadata": {},
   "outputs": [
    {
     "name": "stdout",
     "output_type": "stream",
     "text": [
      "[-1.9502733]\n",
      "[[0.09356445 0.91854045]]\n"
     ]
    },
    {
     "data": {
      "text/plain": [
       "array([[62.82444064],\n",
       "       [59.52453664],\n",
       "       [76.99390932],\n",
       "       [66.6686273 ],\n",
       "       [37.52181801],\n",
       "       [71.76335995],\n",
       "       [72.17987002],\n",
       "       [60.89379529],\n",
       "       [66.14144872],\n",
       "       [84.41869333],\n",
       "       [67.05998917],\n",
       "       [62.18659355],\n",
       "       [83.50015288],\n",
       "       [79.39237694],\n",
       "       [67.60427182],\n",
       "       [48.01712487],\n",
       "       [42.03805989],\n",
       "       [89.66634676],\n",
       "       [68.05499001],\n",
       "       [44.02806157],\n",
       "       [87.17431469],\n",
       "       [57.67035167],\n",
       "       [55.1783196 ],\n",
       "       [89.75991121],\n",
       "       [66.20080504],\n",
       "       [73.69400531],\n",
       "       [70.64058653],\n",
       "       [52.48205456],\n",
       "       [61.28515716],\n",
       "       [78.25249945],\n",
       "       [96.39392736],\n",
       "       [62.45018284],\n",
       "       [50.22846359],\n",
       "       [63.83654555],\n",
       "       [65.65652239],\n",
       "       [74.57833764],\n",
       "       [65.11223975],\n",
       "       [46.44363326],\n",
       "       [66.87286027],\n",
       "       [68.78640156],\n",
       "       [52.68628753],\n",
       "       [83.87441069],\n",
       "       [96.50459587],\n",
       "       [63.27515884],\n",
       "       [61.17448864],\n",
       "       [73.69400531],\n",
       "       [54.35334359],\n",
       "       [96.7510811 ],\n",
       "       [72.38410299],\n",
       "       [74.87613506],\n",
       "       [68.80350562],\n",
       "       [52.89052049],\n",
       "       [48.95276939],\n",
       "       [72.51187557],\n",
       "       [63.19869845],\n",
       "       [66.60927097],\n",
       "       [65.86075536],\n",
       "       [95.58605542],\n",
       "       [61.98236058],\n",
       "       [64.30436781],\n",
       "       [97.01467039],\n",
       "       [63.53874813],\n",
       "       [69.62848163],\n",
       "       [62.35661838],\n",
       "       [78.64386132],\n",
       "       [86.47711127],\n",
       "       [62.82444064],\n",
       "       [60.14527967],\n",
       "       [50.94277107],\n",
       "       [65.56295794],\n",
       "       [74.76546654],\n",
       "       [58.04460947],\n",
       "       [61.455182  ],\n",
       "       [31.16849522],\n",
       "       [57.0154005 ],\n",
       "       [64.28726374],\n",
       "       [82.9729743 ],\n",
       "       [67.6807322 ],\n",
       "       [82.95587023],\n",
       "       [95.9261051 ],\n",
       "       [62.82444064],\n",
       "       [44.23229454],\n",
       "       [71.09130473],\n",
       "       [70.82771543],\n",
       "       [77.29170674],\n",
       "       [56.81116753],\n",
       "       [80.66807113],\n",
       "       [36.15255936],\n",
       "       [86.44290314],\n",
       "       [58.58889212],\n",
       "       [71.01484434],\n",
       "       [83.53436101],\n",
       "       [77.63175642],\n",
       "       [66.59216691],\n",
       "       [83.6108214 ],\n",
       "       [77.27460267],\n",
       "       [62.18659355],\n",
       "       [76.61965151],\n",
       "       [73.1326186 ],\n",
       "       [78.7716339 ],\n",
       "       [60.27305225],\n",
       "       [72.10340963],\n",
       "       [90.69555573],\n",
       "       [83.89151475],\n",
       "       [76.61965151],\n",
       "       [68.16565853],\n",
       "       [69.40714459],\n",
       "       [55.5525774 ],\n",
       "       [55.10185921],\n",
       "       [65.67362646],\n",
       "       [61.90590019],\n",
       "       [55.27188405],\n",
       "       [69.25422382],\n",
       "       [74.33185241],\n",
       "       [78.08247461],\n",
       "       [64.49149671],\n",
       "       [89.6492427 ],\n",
       "       [69.25422382],\n",
       "       [70.75125505],\n",
       "       [47.53219855],\n",
       "       [45.26150351],\n",
       "       [95.288258  ],\n",
       "       [82.13089423],\n",
       "       [58.77602102],\n",
       "       [54.18331876],\n",
       "       [48.65497197],\n",
       "       [67.60427182],\n",
       "       [63.57295626],\n",
       "       [82.13089423],\n",
       "       [64.00657039],\n",
       "       [77.41041938],\n",
       "       [52.31202972],\n",
       "       [81.13589339],\n",
       "       [82.31802314],\n",
       "       [62.71377213],\n",
       "       [68.97353046],\n",
       "       [58.85248141],\n",
       "       [75.40331364],\n",
       "       [53.17121385],\n",
       "       [98.69883052],\n",
       "       [51.50415778],\n",
       "       [69.64558569],\n",
       "       [80.66807113],\n",
       "       [41.83382692],\n",
       "       [67.07709323],\n",
       "       [63.02867361],\n",
       "       [70.75125505],\n",
       "       [54.99119069],\n",
       "       [48.37427861],\n",
       "       [41.41731686],\n",
       "       [46.3500688 ],\n",
       "       [75.4204177 ],\n",
       "       [61.88879613],\n",
       "       [67.51070736],\n",
       "       [63.08802993],\n",
       "       [57.10896495],\n",
       "       [86.55357166],\n",
       "       [53.0776494 ],\n",
       "       [73.84692609],\n",
       "       [68.99063453],\n",
       "       [86.34933869],\n",
       "       [64.755086  ],\n",
       "       [45.80578616],\n",
       "       [67.79140072],\n",
       "       [83.42369249],\n",
       "       [81.58661159],\n",
       "       [52.51626269],\n",
       "       [70.54702208],\n",
       "       [30.36062329],\n",
       "       [94.6504109 ],\n",
       "       [86.7235965 ],\n",
       "       [82.07153791],\n",
       "       [82.20735462],\n",
       "       [71.29553769],\n",
       "       [57.12606902],\n",
       "       [69.70494201],\n",
       "       [73.02195008],\n",
       "       [68.42924782],\n",
       "       [65.67362646],\n",
       "       [64.83154639],\n",
       "       [73.65979718],\n",
       "       [64.84865045],\n",
       "       [75.43752177],\n",
       "       [73.67690125],\n",
       "       [90.41486238],\n",
       "       [83.42369249],\n",
       "       [69.45845679],\n",
       "       [72.92838563],\n",
       "       [67.88496517],\n",
       "       [85.18431301],\n",
       "       [82.5222561 ],\n",
       "       [54.89762624],\n",
       "       [73.11551454],\n",
       "       [81.66307197],\n",
       "       [16.71833319],\n",
       "       [74.87613506],\n",
       "       [59.50743257],\n",
       "       [94.66751497],\n",
       "       [56.93894012],\n",
       "       [60.34951264]])"
      ]
     },
     "execution_count": 60,
     "metadata": {},
     "output_type": "execute_result"
    }
   ],
   "source": [
    "#create the model\n",
    "lm2=LinearRegression()\n",
    "#fit the model\n",
    "model2=lm2.fit(x_train,y_train)\n",
    "print(lm2.intercept_)\n",
    "print(lm2.coef_)\n",
    "#predict the results for x_test\n",
    "y_pred=model2.predict(x_test)\n",
    "y_pred"
   ]
  },
  {
   "cell_type": "code",
   "execution_count": 61,
   "metadata": {},
   "outputs": [
    {
     "name": "stdout",
     "output_type": "stream",
     "text": [
      "rmse is  4.414674861496005\n",
      "r square is  0.9052409628220129\n"
     ]
    }
   ],
   "source": [
    "rmse2=np.sqrt(mean_squared_error(y_test,y_pred))\n",
    "r=r2_score(y_test,y_pred)\n",
    "print('rmse is ',rmse2)\n",
    "print('r square is ',r)"
   ]
  },
  {
   "cell_type": "code",
   "execution_count": null,
   "metadata": {},
   "outputs": [],
   "source": []
  }
 ],
 "metadata": {
  "kernelspec": {
   "display_name": "Python 3",
   "language": "python",
   "name": "python3"
  },
  "language_info": {
   "codemirror_mode": {
    "name": "ipython",
    "version": 3
   },
   "file_extension": ".py",
   "mimetype": "text/x-python",
   "name": "python",
   "nbconvert_exporter": "python",
   "pygments_lexer": "ipython3",
   "version": "3.7.1"
  }
 },
 "nbformat": 4,
 "nbformat_minor": 2
}
